{
  "nbformat": 4,
  "nbformat_minor": 0,
  "metadata": {
    "colab": {
      "provenance": [],
      "include_colab_link": true
    },
    "kernelspec": {
      "name": "python3",
      "display_name": "Python 3"
    },
    "language_info": {
      "name": "python"
    }
  },
  "cells": [
    {
      "cell_type": "markdown",
      "metadata": {
        "id": "view-in-github",
        "colab_type": "text"
      },
      "source": [
        "<a href=\"https://colab.research.google.com/github/baradel2548/ARQUEARIA-PICA-EST-GIO-7/blob/main/PRO_C114_projtemp_pt.ipynb\" target=\"_parent\"><img src=\"https://colab.research.google.com/assets/colab-badge.svg\" alt=\"Open In Colab\"/></a>"
      ]
    },
    {
      "cell_type": "code",
      "execution_count": null,
      "metadata": {
        "id": "lZJn4XMeQohi",
        "outputId": "62643e3d-6055-4cbd-bc02-f71a81538fcb",
        "colab": {
          "base_uri": "https://localhost:8080/"
        }
      },
      "outputs": [
        {
          "output_type": "stream",
          "name": "stdout",
          "text": [
            "Cloning into 'PRO_1-1_C114_ProductDataset'...\n",
            "remote: Enumerating objects: 6, done.\u001b[K\n",
            "remote: Counting objects: 100% (6/6), done.\u001b[K\n",
            "remote: Compressing objects: 100% (4/4), done.\u001b[K\n",
            "remote: Total 6 (delta 1), reused 6 (delta 1), pack-reused 0\u001b[K\n",
            "Unpacking objects: 100% (6/6), done.\n"
          ]
        }
      ],
      "source": [
        "# Carregue o conjunto de dados do repositório Github\n",
        "!git clone https://github.com/ByjusBrazil/PRO_1-1_C114_ProductDataset"
      ]
    },
    {
      "cell_type": "code",
      "source": [
        "# Faça um dataframe usando o módulo \"pandas\"\n",
        "import pandas as pd\n",
        "dataframe = pd.read_excel(\"/content/PRO_1-1_C114_ProductDataset/updated_product_dataset.xlsx\")\n",
        "print(dataframe.head())\n"
      ],
      "metadata": {
        "id": "i2ck3i9ycNXq",
        "outputId": "99adb1f3-52a9-48d3-8623-5ee988707c56",
        "colab": {
          "base_uri": "https://localhost:8080/"
        }
      },
      "execution_count": null,
      "outputs": [
        {
          "output_type": "stream",
          "name": "stdout",
          "text": [
            "     Emoção                                              Texto\n",
            "0  Positiva  ótimo pad amo ddr não quero pad de metal funci...\n",
            "1  Positiva  excelente pad ótimo produto altamente responsi...\n",
            "2  Positiva  incrível ótimo ddr pad funciona perfeitamente ...\n",
            "3  Positiva  amo esperar deslizamento não muito feliz dia 1...\n",
            "4  Positiva  preço de boa qualidade preço de boa qualidade ...\n"
          ]
        }
      ]
    },
    {
      "cell_type": "code",
      "source": [
        "dataframe.head()"
      ],
      "metadata": {
        "id": "IyXN2FIF4I0Q",
        "colab": {
          "base_uri": "https://localhost:8080/",
          "height": 206
        },
        "outputId": "7890630e-1a78-4f34-c955-03df00e1b6ed"
      },
      "execution_count": null,
      "outputs": [
        {
          "output_type": "execute_result",
          "data": {
            "text/plain": [
              "     Emoção                                              Texto\n",
              "0  Positiva  ótimo pad amo ddr não quero pad de metal funci...\n",
              "1  Positiva  excelente pad ótimo produto altamente responsi...\n",
              "2  Positiva  incrível ótimo ddr pad funciona perfeitamente ...\n",
              "3  Positiva  amo esperar deslizamento não muito feliz dia 1...\n",
              "4  Positiva  preço de boa qualidade preço de boa qualidade ..."
            ],
            "text/html": [
              "\n",
              "  <div id=\"df-ec6c9964-f4a7-4293-a7e6-8b499403f88f\">\n",
              "    <div class=\"colab-df-container\">\n",
              "      <div>\n",
              "<style scoped>\n",
              "    .dataframe tbody tr th:only-of-type {\n",
              "        vertical-align: middle;\n",
              "    }\n",
              "\n",
              "    .dataframe tbody tr th {\n",
              "        vertical-align: top;\n",
              "    }\n",
              "\n",
              "    .dataframe thead th {\n",
              "        text-align: right;\n",
              "    }\n",
              "</style>\n",
              "<table border=\"1\" class=\"dataframe\">\n",
              "  <thead>\n",
              "    <tr style=\"text-align: right;\">\n",
              "      <th></th>\n",
              "      <th>Emoção</th>\n",
              "      <th>Texto</th>\n",
              "    </tr>\n",
              "  </thead>\n",
              "  <tbody>\n",
              "    <tr>\n",
              "      <th>0</th>\n",
              "      <td>Positiva</td>\n",
              "      <td>ótimo pad amo ddr não quero pad de metal funci...</td>\n",
              "    </tr>\n",
              "    <tr>\n",
              "      <th>1</th>\n",
              "      <td>Positiva</td>\n",
              "      <td>excelente pad ótimo produto altamente responsi...</td>\n",
              "    </tr>\n",
              "    <tr>\n",
              "      <th>2</th>\n",
              "      <td>Positiva</td>\n",
              "      <td>incrível ótimo ddr pad funciona perfeitamente ...</td>\n",
              "    </tr>\n",
              "    <tr>\n",
              "      <th>3</th>\n",
              "      <td>Positiva</td>\n",
              "      <td>amo esperar deslizamento não muito feliz dia 1...</td>\n",
              "    </tr>\n",
              "    <tr>\n",
              "      <th>4</th>\n",
              "      <td>Positiva</td>\n",
              "      <td>preço de boa qualidade preço de boa qualidade ...</td>\n",
              "    </tr>\n",
              "  </tbody>\n",
              "</table>\n",
              "</div>\n",
              "      <button class=\"colab-df-convert\" onclick=\"convertToInteractive('df-ec6c9964-f4a7-4293-a7e6-8b499403f88f')\"\n",
              "              title=\"Convert this dataframe to an interactive table.\"\n",
              "              style=\"display:none;\">\n",
              "        \n",
              "  <svg xmlns=\"http://www.w3.org/2000/svg\" height=\"24px\"viewBox=\"0 0 24 24\"\n",
              "       width=\"24px\">\n",
              "    <path d=\"M0 0h24v24H0V0z\" fill=\"none\"/>\n",
              "    <path d=\"M18.56 5.44l.94 2.06.94-2.06 2.06-.94-2.06-.94-.94-2.06-.94 2.06-2.06.94zm-11 1L8.5 8.5l.94-2.06 2.06-.94-2.06-.94L8.5 2.5l-.94 2.06-2.06.94zm10 10l.94 2.06.94-2.06 2.06-.94-2.06-.94-.94-2.06-.94 2.06-2.06.94z\"/><path d=\"M17.41 7.96l-1.37-1.37c-.4-.4-.92-.59-1.43-.59-.52 0-1.04.2-1.43.59L10.3 9.45l-7.72 7.72c-.78.78-.78 2.05 0 2.83L4 21.41c.39.39.9.59 1.41.59.51 0 1.02-.2 1.41-.59l7.78-7.78 2.81-2.81c.8-.78.8-2.07 0-2.86zM5.41 20L4 18.59l7.72-7.72 1.47 1.35L5.41 20z\"/>\n",
              "  </svg>\n",
              "      </button>\n",
              "      \n",
              "  <style>\n",
              "    .colab-df-container {\n",
              "      display:flex;\n",
              "      flex-wrap:wrap;\n",
              "      gap: 12px;\n",
              "    }\n",
              "\n",
              "    .colab-df-convert {\n",
              "      background-color: #E8F0FE;\n",
              "      border: none;\n",
              "      border-radius: 50%;\n",
              "      cursor: pointer;\n",
              "      display: none;\n",
              "      fill: #1967D2;\n",
              "      height: 32px;\n",
              "      padding: 0 0 0 0;\n",
              "      width: 32px;\n",
              "    }\n",
              "\n",
              "    .colab-df-convert:hover {\n",
              "      background-color: #E2EBFA;\n",
              "      box-shadow: 0px 1px 2px rgba(60, 64, 67, 0.3), 0px 1px 3px 1px rgba(60, 64, 67, 0.15);\n",
              "      fill: #174EA6;\n",
              "    }\n",
              "\n",
              "    [theme=dark] .colab-df-convert {\n",
              "      background-color: #3B4455;\n",
              "      fill: #D2E3FC;\n",
              "    }\n",
              "\n",
              "    [theme=dark] .colab-df-convert:hover {\n",
              "      background-color: #434B5C;\n",
              "      box-shadow: 0px 1px 3px 1px rgba(0, 0, 0, 0.15);\n",
              "      filter: drop-shadow(0px 1px 2px rgba(0, 0, 0, 0.3));\n",
              "      fill: #FFFFFF;\n",
              "    }\n",
              "  </style>\n",
              "\n",
              "      <script>\n",
              "        const buttonEl =\n",
              "          document.querySelector('#df-ec6c9964-f4a7-4293-a7e6-8b499403f88f button.colab-df-convert');\n",
              "        buttonEl.style.display =\n",
              "          google.colab.kernel.accessAllowed ? 'block' : 'none';\n",
              "\n",
              "        async function convertToInteractive(key) {\n",
              "          const element = document.querySelector('#df-ec6c9964-f4a7-4293-a7e6-8b499403f88f');\n",
              "          const dataTable =\n",
              "            await google.colab.kernel.invokeFunction('convertToInteractive',\n",
              "                                                     [key], {});\n",
              "          if (!dataTable) return;\n",
              "\n",
              "          const docLinkHtml = 'Like what you see? Visit the ' +\n",
              "            '<a target=\"_blank\" href=https://colab.research.google.com/notebooks/data_table.ipynb>data table notebook</a>'\n",
              "            + ' to learn more about interactive tables.';\n",
              "          element.innerHTML = '';\n",
              "          dataTable['output_type'] = 'display_data';\n",
              "          await google.colab.output.renderOutput(dataTable, element);\n",
              "          const docLink = document.createElement('div');\n",
              "          docLink.innerHTML = docLinkHtml;\n",
              "          element.appendChild(docLink);\n",
              "        }\n",
              "      </script>\n",
              "    </div>\n",
              "  </div>\n",
              "  "
            ]
          },
          "metadata": {},
          "execution_count": 3
        }
      ]
    },
    {
      "cell_type": "code",
      "source": [
        "dataframe[\"Emoção\"].unique()"
      ],
      "metadata": {
        "id": "ahpKP4Xc4ep6",
        "colab": {
          "base_uri": "https://localhost:8080/"
        },
        "outputId": "6d81aa1f-ca9d-4dd1-a559-634264c18a14"
      },
      "execution_count": null,
      "outputs": [
        {
          "output_type": "execute_result",
          "data": {
            "text/plain": [
              "array(['Positiva', 'Negativa', 'Neutra'], dtype=object)"
            ]
          },
          "metadata": {},
          "execution_count": 4
        }
      ]
    },
    {
      "cell_type": "code",
      "source": [
        "encode_emotions={\"Positiva\":0,\"Neutra\":1,\"Negativa\":2}"
      ],
      "metadata": {
        "id": "AfK6S9KJ4kQ9"
      },
      "execution_count": null,
      "outputs": []
    },
    {
      "cell_type": "code",
      "source": [
        "dataframe.replace(encode_emotions,inplace=True)"
      ],
      "metadata": {
        "id": "EnTzj4gB4tk9"
      },
      "execution_count": null,
      "outputs": []
    },
    {
      "cell_type": "code",
      "source": [
        "dataframe.head()"
      ],
      "metadata": {
        "id": "S-wAZcLH4trn",
        "colab": {
          "base_uri": "https://localhost:8080/",
          "height": 206
        },
        "outputId": "eb047db6-ecc9-4871-d9bd-536d60136f56"
      },
      "execution_count": null,
      "outputs": [
        {
          "output_type": "execute_result",
          "data": {
            "text/plain": [
              "   Emoção                                              Texto\n",
              "0       0  ótimo pad amo ddr não quero pad de metal funci...\n",
              "1       0  excelente pad ótimo produto altamente responsi...\n",
              "2       0  incrível ótimo ddr pad funciona perfeitamente ...\n",
              "3       0  amo esperar deslizamento não muito feliz dia 1...\n",
              "4       0  preço de boa qualidade preço de boa qualidade ..."
            ],
            "text/html": [
              "\n",
              "  <div id=\"df-69c292a4-7f8d-4bbf-beb5-cd742ab0e4df\">\n",
              "    <div class=\"colab-df-container\">\n",
              "      <div>\n",
              "<style scoped>\n",
              "    .dataframe tbody tr th:only-of-type {\n",
              "        vertical-align: middle;\n",
              "    }\n",
              "\n",
              "    .dataframe tbody tr th {\n",
              "        vertical-align: top;\n",
              "    }\n",
              "\n",
              "    .dataframe thead th {\n",
              "        text-align: right;\n",
              "    }\n",
              "</style>\n",
              "<table border=\"1\" class=\"dataframe\">\n",
              "  <thead>\n",
              "    <tr style=\"text-align: right;\">\n",
              "      <th></th>\n",
              "      <th>Emoção</th>\n",
              "      <th>Texto</th>\n",
              "    </tr>\n",
              "  </thead>\n",
              "  <tbody>\n",
              "    <tr>\n",
              "      <th>0</th>\n",
              "      <td>0</td>\n",
              "      <td>ótimo pad amo ddr não quero pad de metal funci...</td>\n",
              "    </tr>\n",
              "    <tr>\n",
              "      <th>1</th>\n",
              "      <td>0</td>\n",
              "      <td>excelente pad ótimo produto altamente responsi...</td>\n",
              "    </tr>\n",
              "    <tr>\n",
              "      <th>2</th>\n",
              "      <td>0</td>\n",
              "      <td>incrível ótimo ddr pad funciona perfeitamente ...</td>\n",
              "    </tr>\n",
              "    <tr>\n",
              "      <th>3</th>\n",
              "      <td>0</td>\n",
              "      <td>amo esperar deslizamento não muito feliz dia 1...</td>\n",
              "    </tr>\n",
              "    <tr>\n",
              "      <th>4</th>\n",
              "      <td>0</td>\n",
              "      <td>preço de boa qualidade preço de boa qualidade ...</td>\n",
              "    </tr>\n",
              "  </tbody>\n",
              "</table>\n",
              "</div>\n",
              "      <button class=\"colab-df-convert\" onclick=\"convertToInteractive('df-69c292a4-7f8d-4bbf-beb5-cd742ab0e4df')\"\n",
              "              title=\"Convert this dataframe to an interactive table.\"\n",
              "              style=\"display:none;\">\n",
              "        \n",
              "  <svg xmlns=\"http://www.w3.org/2000/svg\" height=\"24px\"viewBox=\"0 0 24 24\"\n",
              "       width=\"24px\">\n",
              "    <path d=\"M0 0h24v24H0V0z\" fill=\"none\"/>\n",
              "    <path d=\"M18.56 5.44l.94 2.06.94-2.06 2.06-.94-2.06-.94-.94-2.06-.94 2.06-2.06.94zm-11 1L8.5 8.5l.94-2.06 2.06-.94-2.06-.94L8.5 2.5l-.94 2.06-2.06.94zm10 10l.94 2.06.94-2.06 2.06-.94-2.06-.94-.94-2.06-.94 2.06-2.06.94z\"/><path d=\"M17.41 7.96l-1.37-1.37c-.4-.4-.92-.59-1.43-.59-.52 0-1.04.2-1.43.59L10.3 9.45l-7.72 7.72c-.78.78-.78 2.05 0 2.83L4 21.41c.39.39.9.59 1.41.59.51 0 1.02-.2 1.41-.59l7.78-7.78 2.81-2.81c.8-.78.8-2.07 0-2.86zM5.41 20L4 18.59l7.72-7.72 1.47 1.35L5.41 20z\"/>\n",
              "  </svg>\n",
              "      </button>\n",
              "      \n",
              "  <style>\n",
              "    .colab-df-container {\n",
              "      display:flex;\n",
              "      flex-wrap:wrap;\n",
              "      gap: 12px;\n",
              "    }\n",
              "\n",
              "    .colab-df-convert {\n",
              "      background-color: #E8F0FE;\n",
              "      border: none;\n",
              "      border-radius: 50%;\n",
              "      cursor: pointer;\n",
              "      display: none;\n",
              "      fill: #1967D2;\n",
              "      height: 32px;\n",
              "      padding: 0 0 0 0;\n",
              "      width: 32px;\n",
              "    }\n",
              "\n",
              "    .colab-df-convert:hover {\n",
              "      background-color: #E2EBFA;\n",
              "      box-shadow: 0px 1px 2px rgba(60, 64, 67, 0.3), 0px 1px 3px 1px rgba(60, 64, 67, 0.15);\n",
              "      fill: #174EA6;\n",
              "    }\n",
              "\n",
              "    [theme=dark] .colab-df-convert {\n",
              "      background-color: #3B4455;\n",
              "      fill: #D2E3FC;\n",
              "    }\n",
              "\n",
              "    [theme=dark] .colab-df-convert:hover {\n",
              "      background-color: #434B5C;\n",
              "      box-shadow: 0px 1px 3px 1px rgba(0, 0, 0, 0.15);\n",
              "      filter: drop-shadow(0px 1px 2px rgba(0, 0, 0, 0.3));\n",
              "      fill: #FFFFFF;\n",
              "    }\n",
              "  </style>\n",
              "\n",
              "      <script>\n",
              "        const buttonEl =\n",
              "          document.querySelector('#df-69c292a4-7f8d-4bbf-beb5-cd742ab0e4df button.colab-df-convert');\n",
              "        buttonEl.style.display =\n",
              "          google.colab.kernel.accessAllowed ? 'block' : 'none';\n",
              "\n",
              "        async function convertToInteractive(key) {\n",
              "          const element = document.querySelector('#df-69c292a4-7f8d-4bbf-beb5-cd742ab0e4df');\n",
              "          const dataTable =\n",
              "            await google.colab.kernel.invokeFunction('convertToInteractive',\n",
              "                                                     [key], {});\n",
              "          if (!dataTable) return;\n",
              "\n",
              "          const docLinkHtml = 'Like what you see? Visit the ' +\n",
              "            '<a target=\"_blank\" href=https://colab.research.google.com/notebooks/data_table.ipynb>data table notebook</a>'\n",
              "            + ' to learn more about interactive tables.';\n",
              "          element.innerHTML = '';\n",
              "          dataTable['output_type'] = 'display_data';\n",
              "          await google.colab.output.renderOutput(dataTable, element);\n",
              "          const docLink = document.createElement('div');\n",
              "          docLink.innerHTML = docLinkHtml;\n",
              "          element.appendChild(docLink);\n",
              "        }\n",
              "      </script>\n",
              "    </div>\n",
              "  </div>\n",
              "  "
            ]
          },
          "metadata": {},
          "execution_count": 7
        }
      ]
    },
    {
      "cell_type": "code",
      "source": [
        "training_sentences=[]\n",
        "training_labels = []\n",
        "# Anexe o texto e as emoções na lista usando o método 'loc'\n",
        "for i in range(len(dataframe)):\n",
        "  sentence = dataframe.loc[i,\"Texto\"]\n",
        "  training_sentences.append(sentence)\n",
        "  label = dataframe.loc[i,\"Emoção\"]\n",
        "  training_labels.append(label)\n",
        "# Verifique um texto e uma etiqueta aleatórios da lista\n",
        "training_sentences[10],training_labels[10]"
      ],
      "metadata": {
        "id": "FlQQaFlZ425n",
        "colab": {
          "base_uri": "https://localhost:8080/"
        },
        "outputId": "14fd7bbf-a696-408c-8c6a-a4ef64494de8"
      },
      "execution_count": null,
      "outputs": [
        {
          "output_type": "execute_result",
          "data": {
            "text/plain": [
              "('decepcionado lento tirar fotos', 1)"
            ]
          },
          "metadata": {},
          "execution_count": 8
        }
      ]
    },
    {
      "cell_type": "code",
      "source": [
        "import tensorflow as tf\n",
        "from tensorflow.keras.preprocessing.text import Tokenizer\n",
        "#Defina or parâmetros do Tokenizer\n",
        "vocab_size=10000\n",
        "embedding_dim = 16\n",
        "oov_tok = \"<OOV>\"\n",
        "training_size = 20000\n",
        "tokenizer=Tokenizer(num_words=vocab_size,oov_token=oov_tok)\n",
        "tokenizer.fit_on_texts(training_sentences)\n",
        "#Crie um dicionário chamado word_index\n",
        "word_index = tokenizer.word_index\n",
        "#Verifique a sequência tokenizada\n",
        "word_index[\"o\"]"
      ],
      "metadata": {
        "id": "7zns_bd046ky",
        "colab": {
          "base_uri": "https://localhost:8080/"
        },
        "outputId": "7a415ee4-f9bb-46e3-8569-436b3dcca705"
      },
      "execution_count": null,
      "outputs": [
        {
          "output_type": "execute_result",
          "data": {
            "text/plain": [
              "78"
            ]
          },
          "metadata": {},
          "execution_count": 9
        }
      ]
    },
    {
      "cell_type": "code",
      "source": [
        "training_sequences = tokenizer.texts_to_sequences(training_sentences)\n",
        "print(training_sequences[0])\n",
        "print(training_sequences[1])\n",
        "print(training_sequences[2])"
      ],
      "metadata": {
        "id": "VCU0rS1646r-",
        "colab": {
          "base_uri": "https://localhost:8080/"
        },
        "outputId": "8b735eff-ce61-414d-bfdc-5c41d8ca0741"
      },
      "execution_count": null,
      "outputs": [
        {
          "output_type": "stream",
          "name": "stdout",
          "text": [
            "[3, 4, 9, 10, 2, 27, 4, 5, 28, 6, 3, 11]\n",
            "[29, 4, 3, 30, 31, 32, 2, 33, 34, 12, 35, 36, 37, 7, 13, 38, 7, 39]\n",
            "[40, 3, 10, 4, 6, 41, 42, 11]\n"
          ]
        }
      ]
    },
    {
      "cell_type": "code",
      "source": [
        "from tensorflow.keras.preprocessing.sequence import pad_sequences\n",
        "\n",
        "#Defina os parâmetros das pad_sequences\n",
        "padding_type = 'post'\n",
        "max_length = 100\n",
        "trunc_type='post'\n",
        "training_padded = pad_sequences(training_sequences,maxlen=max_length,\n",
        "                                padding=padding_type,truncating=trunc_type)\n",
        "\n",
        "#Verifique a sequência preenchida\n",
        "training_padded"
      ],
      "metadata": {
        "colab": {
          "base_uri": "https://localhost:8080/"
        },
        "id": "yUbgPTXQDiQC",
        "outputId": "1a06cf8f-3d49-4719-de74-df444f52f840"
      },
      "execution_count": null,
      "outputs": [
        {
          "output_type": "execute_result",
          "data": {
            "text/plain": [
              "array([[  3,   4,   9, ...,   0,   0,   0],\n",
              "       [ 29,   4,   3, ...,   0,   0,   0],\n",
              "       [ 40,   3,  10, ...,   0,   0,   0],\n",
              "       ...,\n",
              "       [ 96,   2,  17, ...,   0,   0,   0],\n",
              "       [ 22,  23,  99, ...,   0,   0,   0],\n",
              "       [ 23, 111,  24, ...,   0,   0,   0]], dtype=int32)"
            ]
          },
          "metadata": {},
          "execution_count": 12
        }
      ]
    },
    {
      "cell_type": "code",
      "source": [
        "import numpy as np\n",
        "training_padded = np.array(training_padded)\n",
        "training_labels=np.array(training_labels)"
      ],
      "metadata": {
        "id": "i7YlA_xVKOzu"
      },
      "execution_count": 12,
      "outputs": []
    },
    {
      "cell_type": "code",
      "source": [
        "from tensorflow.keras.models import Sequential\n",
        "from tensorflow.keras.layers import Embedding, LSTM, Dense\n",
        "from tensorflow.keras.layers import Conv1D, Dropout, MaxPooling1D\n",
        "\n",
        "model = tf.keras.Sequential([\n",
        "    Embedding(vocab_size,embedding_dim,input_length = max_length),Dropout(0.2),\n",
        "    Conv1D(filters=256,kernel_size=3,activation='relu'),\n",
        "    MaxPooling1D(pool_size=3),\n",
        "    Conv1D(filters=128,kernel_size=3,activation='relu'),\n",
        "    MaxPooling1D(pool_size=3),\n",
        "    LSTM(128),\n",
        "    Dense(128,activation='relu'),Dropout(0.2),\n",
        "    Dense(64,activation='relu'),\n",
        "    Dense(6,activation='relu'),\n",
        "])\n",
        "model.compile(loss = 'sparse_categorical_crossentropy',optimizer='adam',\n",
        "              metrics=['accuracy'])\n"
      ],
      "metadata": {
        "id": "x9GlsB6DKUkz"
      },
      "execution_count": 13,
      "outputs": []
    },
    {
      "cell_type": "code",
      "source": [
        "model.summary()"
      ],
      "metadata": {
        "colab": {
          "base_uri": "https://localhost:8080/"
        },
        "id": "B_3ye1oEKXz0",
        "outputId": "56ea56eb-d911-4a2f-a2d5-8f3a817cc295"
      },
      "execution_count": 14,
      "outputs": [
        {
          "output_type": "stream",
          "name": "stdout",
          "text": [
            "Model: \"sequential\"\n",
            "_________________________________________________________________\n",
            " Layer (type)                Output Shape              Param #   \n",
            "=================================================================\n",
            " embedding (Embedding)       (None, 100, 16)           160000    \n",
            "                                                                 \n",
            " dropout (Dropout)           (None, 100, 16)           0         \n",
            "                                                                 \n",
            " conv1d (Conv1D)             (None, 98, 256)           12544     \n",
            "                                                                 \n",
            " max_pooling1d (MaxPooling1D  (None, 32, 256)          0         \n",
            " )                                                               \n",
            "                                                                 \n",
            " conv1d_1 (Conv1D)           (None, 30, 128)           98432     \n",
            "                                                                 \n",
            " max_pooling1d_1 (MaxPooling  (None, 10, 128)          0         \n",
            " 1D)                                                             \n",
            "                                                                 \n",
            " lstm (LSTM)                 (None, 128)               131584    \n",
            "                                                                 \n",
            " dense (Dense)               (None, 128)               16512     \n",
            "                                                                 \n",
            " dropout_1 (Dropout)         (None, 128)               0         \n",
            "                                                                 \n",
            " dense_1 (Dense)             (None, 64)                8256      \n",
            "                                                                 \n",
            " dense_2 (Dense)             (None, 6)                 390       \n",
            "                                                                 \n",
            "=================================================================\n",
            "Total params: 427,718\n",
            "Trainable params: 427,718\n",
            "Non-trainable params: 0\n",
            "_________________________________________________________________\n"
          ]
        }
      ]
    },
    {
      "cell_type": "code",
      "source": [
        "num_epoch = 5\n",
        "history = model.fit(training_padded,training_labels,epochs=num_epoch,verbose=2)"
      ],
      "metadata": {
        "colab": {
          "base_uri": "https://localhost:8080/"
        },
        "id": "eb4zHT35Kanf",
        "outputId": "4cfa9ab6-91d8-4893-9390-88d6b9da6af4"
      },
      "execution_count": 16,
      "outputs": [
        {
          "output_type": "stream",
          "name": "stdout",
          "text": [
            "Epoch 1/5\n",
            "1/1 - 0s - loss: 5.1300 - accuracy: 0.4000 - 72ms/epoch - 72ms/step\n",
            "Epoch 2/5\n",
            "1/1 - 0s - loss: 4.8087 - accuracy: 0.2667 - 64ms/epoch - 64ms/step\n",
            "Epoch 3/5\n",
            "1/1 - 0s - loss: 1.5377 - accuracy: 0.3333 - 58ms/epoch - 58ms/step\n",
            "Epoch 4/5\n",
            "1/1 - 0s - loss: 1.4996 - accuracy: 0.3333 - 55ms/epoch - 55ms/step\n",
            "Epoch 5/5\n",
            "1/1 - 0s - loss: 1.3224 - accuracy: 0.3333 - 58ms/epoch - 58ms/step\n"
          ]
        }
      ]
    },
    {
      "cell_type": "code",
      "source": [
        "model.save('text_emotion.h5')"
      ],
      "metadata": {
        "id": "l4yRNgu6KjA_"
      },
      "execution_count": 17,
      "outputs": []
    },
    {
      "cell_type": "code",
      "source": [
        "#use o método predict() para previsão do modelo\n",
        "sentence = [\"Eu estou feliz em encontrar meus amigos. Estamos planejando ir a uma festa.\",\n",
        "            \"Eu tive um dia ruim na escola. Eu me machuquei jogando futebol.\",\n",
        "            \"Eu tive um dia ruim na escola. Mas pelo menos ganhei no futebol.\",\n",
        "            \"Achei uma flor linda na rua. Tirei uma foto legal\",\n",
        "            \"Eu estou feliz em encontrar meus amigos. Estamos planejando ir a uma festa.\",\n",
        "            \"Eu tive um dia ruim na escola. Eu me machuquei jogando futebol.\",\n",
        "            \"Eu tive um dia ruim na escola. Mas pelo menos ganhei no futebol.\",\n",
        "            \"Achei uma flor linda na rua. Tirei uma foto legal\",]\n",
        "\n",
        "sequences = tokenizer.texts_to_sequences(sentence)\n",
        "\n",
        "padded = pad_sequences(sequences, maxlen=max_length,\n",
        "                       padding=padding_type, truncating=trunc_type)\n",
        "\n",
        "result=model.predict(padded)\n",
        "\n",
        "predict_class = np.argmax(result, axis=1)\n",
        "predict_class\n",
        "# {\"raiva\": 0, \"medo\": 1, \"alegria\": 2, \"amor\": 3, \"tristeza\": 4, \"surpresa\": 5}"
      ],
      "metadata": {
        "colab": {
          "base_uri": "https://localhost:8080/"
        },
        "id": "_0Yzo3jVKlzw",
        "outputId": "76f6c434-a0ec-458d-9d3a-b7c862ea636b"
      },
      "execution_count": 18,
      "outputs": [
        {
          "output_type": "stream",
          "name": "stdout",
          "text": [
            "1/1 [==============================] - 1s 561ms/step\n"
          ]
        },
        {
          "output_type": "execute_result",
          "data": {
            "text/plain": [
              "array([1, 1, 1, 1, 1, 1, 1, 1])"
            ]
          },
          "metadata": {},
          "execution_count": 18
        }
      ]
    }
  ]
}