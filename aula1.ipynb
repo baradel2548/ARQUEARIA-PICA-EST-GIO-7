{
  "nbformat": 4,
  "nbformat_minor": 0,
  "metadata": {
    "colab": {
      "provenance": [],
      "authorship_tag": "ABX9TyNXy3bAahiFBIiKAVyg0xsh",
      "include_colab_link": true
    },
    "kernelspec": {
      "name": "python3",
      "display_name": "Python 3"
    },
    "language_info": {
      "name": "python"
    }
  },
  "cells": [
    {
      "cell_type": "markdown",
      "metadata": {
        "id": "view-in-github",
        "colab_type": "text"
      },
      "source": [
        "<a href=\"https://colab.research.google.com/github/baradel2548/ARQUEARIA-PICA-EST-GIO-7/blob/main/aula1.ipynb\" target=\"_parent\"><img src=\"https://colab.research.google.com/assets/colab-badge.svg\" alt=\"Open In Colab\"/></a>"
      ]
    },
    {
      "cell_type": "code",
      "source": [
        "cels = float(input(\"digite uma temperatura: \"))\n",
        "def graus (c):\n",
        "    f = (c*9/5)+32\n",
        "    return f\n",
        "\n",
        "resultado = graus(cels)\n",
        "print(resultado)"
      ],
      "metadata": {
        "colab": {
          "base_uri": "https://localhost:8080/"
        },
        "id": "Yz0I-8mzVzac",
        "outputId": "6098b1ce-5ee0-4e44-97ff-18c873492c60"
      },
      "execution_count": 21,
      "outputs": [
        {
          "output_type": "stream",
          "name": "stdout",
          "text": [
            "digite uma temperatura: 53\n",
            "127.4\n"
          ]
        }
      ]
    },
    {
      "cell_type": "code",
      "source": [
        "def calculadora():\n",
        "    operacao = input('digita + para somar ou - para subtrair')\n",
        "    num1 = float(input('digite o 1° numero: '))\n",
        "    num2 = float(input('digite o 2° numero: '))\n",
        "\n",
        "    if operacao==\"+\":\n",
        "        resultado=num1 + num2\n",
        "    elif operacao==\"-\":\n",
        "        resultado=num1-num2 \n",
        "    else:\n",
        "        print('operacao invalida')\n",
        "        return\n",
        "    print(f\"resultado: {resultado}\")\n",
        "\n",
        "calculadora()"
      ],
      "metadata": {
        "colab": {
          "base_uri": "https://localhost:8080/"
        },
        "id": "tV_TX84CaItn",
        "outputId": "a88dd4ec-54e9-48f2-9e24-4f01951d2b09"
      },
      "execution_count": 27,
      "outputs": [
        {
          "output_type": "stream",
          "name": "stdout",
          "text": [
            "digita + para somar ou - para subtrair-\n",
            "digite o 1° numero: 4\n",
            "digite o 2° numero: 6\n",
            "resultado: -2.0\n"
          ]
        }
      ]
    }
  ]
}